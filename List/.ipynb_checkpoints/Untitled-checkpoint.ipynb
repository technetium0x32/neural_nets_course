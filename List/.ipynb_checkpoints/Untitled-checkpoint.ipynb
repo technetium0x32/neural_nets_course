{
 "cells": [
  {
   "cell_type": "markdown",
   "metadata": {},
   "source": [
    "# Занятие 7. Списки"
   ]
  },
  {
   "cell_type": "markdown",
   "metadata": {},
   "source": [
    "Четные индексы"
   ]
  },
  {
   "cell_type": "code",
   "execution_count": null,
   "metadata": {},
   "outputs": [],
   "source": [
    "arr = list(map(int, input().split()))\n",
    "for i in range(0, len(arr), 2):\n",
    "    print(arr[i], end= \" \")"
   ]
  },
  {
   "cell_type": "markdown",
   "metadata": {},
   "source": [
    "Вставить элемент"
   ]
  },
  {
   "cell_type": "code",
   "execution_count": null,
   "metadata": {},
   "outputs": [],
   "source": [
    "arr = list(map(int, input().split()))\n",
    "k, c = list(map(int, input().split()))\n",
    "for i in range(k, len(arr)):\n",
    "    arr[i], c = c, arr[i]\n",
    "arr.append(c)\n",
    "\n",
    "for i in arr:\n",
    "    print(i, end = \" \")"
   ]
  },
  {
   "cell_type": "markdown",
   "metadata": {},
   "source": [
    "Количество совпадающих пар"
   ]
  },
  {
   "cell_type": "code",
   "execution_count": null,
   "metadata": {},
   "outputs": [],
   "source": [
    "arr = list(map(int, input().split()))\n",
    "count = 0\n",
    "for i in range(len(arr)):\n",
    "    for j in range(len(arr)):\n",
    "        if j != i and arr[j] == arr[i]:\n",
    "            count += 1\n",
    "            \n",
    "print(count // 2)"
   ]
  },
  {
   "cell_type": "markdown",
   "metadata": {},
   "source": [
    "Уникальные элементы"
   ]
  },
  {
   "cell_type": "code",
   "execution_count": null,
   "metadata": {},
   "outputs": [],
   "source": [
    "arr = list(map(int, input().split()))\n",
    "\n",
    "for i in range(len(arr)):\n",
    "    for j in range(len(arr)):\n",
    "        if i != j and arr[i] == arr[j]:\n",
    "            break\n",
    "    else:\n",
    "        print(arr[i], end = \" \")"
   ]
  },
  {
   "cell_type": "markdown",
   "metadata": {},
   "source": [
    "Кегельбан"
   ]
  },
  {
   "cell_type": "code",
   "execution_count": null,
   "metadata": {},
   "outputs": [],
   "source": [
    "N, K = list(map(int, input().split()))\n",
    "skittles = [True for i in range(N)]\n",
    "for i in range(K):\n",
    "    I, R = list(map(int, input().split()))\n",
    "    for j in range(I - 1, R):\n",
    "        skittles[j] = False\n",
    "\n",
    "for i in skittles:\n",
    "    if i:\n",
    "        print(\"I\", end = \"\")\n",
    "    else:\n",
    "        print(\".\", end = \"\")"
   ]
  },
  {
   "cell_type": "markdown",
   "metadata": {},
   "source": [
    "Ферзи"
   ]
  },
  {
   "cell_type": "code",
   "execution_count": null,
   "metadata": {},
   "outputs": [],
   "source": [
    "Q = [list(map(int, input().split())) for i in range(8)]\n",
    "isBreaked = False\n",
    "for i in range(len(Q)):\n",
    "    for j in range(len(Q)):\n",
    "        if i != j:\n",
    "            if Q[j][0] == Q[i][0] or Q[i][1] == Q[j][1] or abs(Q[i][0] - Q[j][0]) == abs(Q[i][1] - Q[j][1]):\n",
    "                print(\"YES\")\n",
    "                isBreaked = True\n",
    "                break\n",
    "                \n",
    "    if isBreaked:\n",
    "        break\n",
    "else:\n",
    "    print(\"NO\")"
   ]
  }
 ],
 "metadata": {
  "kernelspec": {
   "display_name": "Python 3",
   "language": "python",
   "name": "python3"
  },
  "language_info": {
   "codemirror_mode": {
    "name": "ipython",
    "version": 3
   },
   "file_extension": ".py",
   "mimetype": "text/x-python",
   "name": "python",
   "nbconvert_exporter": "python",
   "pygments_lexer": "ipython3",
   "version": "3.6.8"
  }
 },
 "nbformat": 4,
 "nbformat_minor": 2
}
